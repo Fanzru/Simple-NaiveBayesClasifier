{
  "nbformat": 4,
  "nbformat_minor": 0,
  "metadata": {
    "colab": {
      "name": "NaiveBayes-Classifier.ipynb",
      "provenance": [],
      "collapsed_sections": []
    },
    "kernelspec": {
      "name": "python3",
      "display_name": "Python 3"
    },
    "language_info": {
      "name": "python"
    }
  },
  "cells": [
    {
      "cell_type": "code",
      "metadata": {
        "id": "8EZaGVXxh2vN"
      },
      "source": [
        "import pandas as pd"
      ],
      "execution_count": 3,
      "outputs": []
    },
    {
      "cell_type": "code",
      "metadata": {
        "colab": {
          "base_uri": "https://localhost:8080/"
        },
        "id": "R6vdb-JLipSw",
        "outputId": "d92cf619-f52b-4178-fff9-62fec8415d8b"
      },
      "source": [
        "#data uji\n",
        "!gdown --id 13ZI1aEo3wkZz1Fq5Sgdzj_uSIgRsyW8b"
      ],
      "execution_count": 4,
      "outputs": [
        {
          "output_type": "stream",
          "text": [
            "Downloading...\n",
            "From: https://drive.google.com/uc?id=13ZI1aEo3wkZz1Fq5Sgdzj_uSIgRsyW8b\n",
            "To: /content/DataBaru.xlsx\n",
            "\r  0% 0.00/8.65k [00:00<?, ?B/s]\r100% 8.65k/8.65k [00:00<00:00, 13.9MB/s]\n"
          ],
          "name": "stdout"
        }
      ]
    },
    {
      "cell_type": "code",
      "metadata": {
        "colab": {
          "base_uri": "https://localhost:8080/"
        },
        "id": "EE7d2ENXkgBN",
        "outputId": "cbc71b5a-c5d2-497e-a735-6326ad268fb0"
      },
      "source": [
        "#data testing\n",
        "!gdown --id 1Ebxkr7JhbsjK39A07MrZjrPq0QAba4nk"
      ],
      "execution_count": 5,
      "outputs": [
        {
          "output_type": "stream",
          "text": [
            "Downloading...\n",
            "From: https://drive.google.com/uc?id=1Ebxkr7JhbsjK39A07MrZjrPq0QAba4nk\n",
            "To: /content/DataTesting.xlsx\n",
            "\r  0% 0.00/9.15k [00:00<?, ?B/s]\r100% 9.15k/9.15k [00:00<00:00, 8.55MB/s]\n"
          ],
          "name": "stdout"
        }
      ]
    },
    {
      "cell_type": "code",
      "metadata": {
        "id": "mTXRn1MglPyX"
      },
      "source": [
        "#tahap 2\n",
        "# untuk menghitung jumlah ya dan tidak serta probabilitas ya dan tidak dari data testing\n",
        "#input  : dataframe testing\n",
        "#output : total ya , total tidak , probabilitas ya dan probabilitas tidak\n",
        "def HitungProbabilitasLayak(dataframe):\n",
        "  total_ya = 0\n",
        "  total_tidak = 0\n",
        "  for i in range(len(dataframe)):\n",
        "    if dataframe.iloc[i]['Layak DiRekomendasikan'] == 'Ya':\n",
        "      total_ya = total_ya + 1\n",
        "    elif dataframe.iloc[i]['Layak DiRekomendasikan'] == 'Tidak':\n",
        "      total_tidak = total_tidak + 1\n",
        "  probabilitas_ya    = total_ya / (total_ya + total_tidak)\n",
        "  probabilitas_tidak = total_tidak / (total_ya + total_tidak)\n",
        "  return total_ya ,probabilitas_ya, total_tidak, probabilitas_tidak"
      ],
      "execution_count": 6,
      "outputs": []
    },
    {
      "cell_type": "code",
      "metadata": {
        "id": "XKix4LVYtEm0"
      },
      "source": [
        "#tahap 3\n",
        "#untuk menghitung probabilitas suatu kelas dan nilainya\n",
        "# input : dataframe testing, nama kelas yang akan di hitung, nilai kelasnya, total ya dan total tidak\n",
        "# output : sebuah list yang berisi nama kelas nilai kelas, probabilitas kelas jika layak dan probabilitas kelas untuk tidak layak\n",
        "def ProbabilitasRekomendasiNilaiKelas(dataframe,nama_kelas,nilai_kelas,total_ya,total_tidak):\n",
        "  \n",
        "  total_ya_kelas = 0\n",
        "  total_tidak_kelas = 0\n",
        "  for i in range(len(dataframe)):\n",
        "    if dataframe.iloc[i][nama_kelas] == nilai_kelas and dataframe.iloc[i]['Layak DiRekomendasikan'] == 'Ya':\n",
        "      total_ya_kelas = total_ya_kelas + 1\n",
        "    elif dataframe.iloc[i][nama_kelas] == nilai_kelas  and dataframe.iloc[i]['Layak DiRekomendasikan'] == 'Tidak':\n",
        "      total_tidak_kelas = total_tidak_kelas + 1\n",
        "  probabilitas_ya_kelas    = total_ya_kelas / total_ya\n",
        "  probabilitas_tidak_kelas = total_tidak_kelas / total_tidak\n",
        "\n",
        "  return [nama_kelas,nilai_kelas,probabilitas_ya_kelas,probabilitas_tidak_kelas]"
      ],
      "execution_count": 7,
      "outputs": []
    },
    {
      "cell_type": "code",
      "metadata": {
        "id": "hT15TmajNB-a"
      },
      "source": [
        "#tahap 4\n",
        "#untuk menghitung probabilitas data testing di rekomendasikan seberapa besar\n",
        "# input  : probabilitas baterai, probabilitas kamera dan probabilitas harga\n",
        "# output : probabilitas X atau data uji layak dan tidak layak\n",
        "def HitungProbabilitasRekomendasiKelas(probabilitas_baterai,probabilitas_kamera,probabilitas_harga):\n",
        "  probabilitas_X_ya    = probabilitas_baterai[2] * probabilitas_kamera[2] * probabilitas_harga[2]\n",
        "  probabilitas_X_tidak = probabilitas_baterai[3] * probabilitas_kamera[3] * probabilitas_harga[3]\n",
        "  return probabilitas_X_ya,probabilitas_X_tidak"
      ],
      "execution_count": 8,
      "outputs": []
    },
    {
      "cell_type": "code",
      "metadata": {
        "id": "XOVFkLDOVNJg"
      },
      "source": [
        "# untuk menampilkan data hasil dari tahap 2\n",
        "# input : list data hasil perhitungan tahap 2\n",
        "# output : menampilkan kelas , nilai kelas, probabilitas ya dan probabilitas tidak\n",
        "def TampilkanTahap2(ListData):\n",
        "  print('Kelas              :',ListData[0])\n",
        "  print('Nilai Kelas        :',ListData[1])\n",
        "  print('Probabilitas Ya    :',ListData[2])\n",
        "  print('Probabilitas Tidak :',ListData[3])\n",
        "  print()"
      ],
      "execution_count": 9,
      "outputs": []
    },
    {
      "cell_type": "code",
      "metadata": {
        "id": "x9WfcgTzY-qh"
      },
      "source": [
        "# untuk menampilkan dataframe uni\n",
        "# input : dataframe uji\n",
        "# output : menampilkan seluruh nilai pada data uji.\n",
        "def TampilkanDataUji(dataframe_Uji):\n",
        "  print('Handphone              :',df_uji.iloc[0]['Handphone'])\n",
        "  print('Baterai                :',df_uji.iloc[0]['Baterai'])\n",
        "  print('Kamera                 :',df_uji.iloc[0]['Kamera'])\n",
        "  print('Harga                  :',df_uji.iloc[0]['Harga'])"
      ],
      "execution_count": 10,
      "outputs": []
    },
    {
      "cell_type": "code",
      "metadata": {
        "colab": {
          "base_uri": "https://localhost:8080/",
          "height": 483
        },
        "id": "hLWvfg2vkQHY",
        "outputId": "6394a4e8-05a6-4810-a431-d739dc343e9f"
      },
      "source": [
        "df_testing = pd.read_excel('https://drive.google.com/uc?id=1GFU4BWuLuna2nM9xv6Yq3MS51c0Mpc0W')\n",
        "df_testing"
      ],
      "execution_count": 11,
      "outputs": [
        {
          "output_type": "execute_result",
          "data": {
            "text/html": [
              "<div>\n",
              "<style scoped>\n",
              "    .dataframe tbody tr th:only-of-type {\n",
              "        vertical-align: middle;\n",
              "    }\n",
              "\n",
              "    .dataframe tbody tr th {\n",
              "        vertical-align: top;\n",
              "    }\n",
              "\n",
              "    .dataframe thead th {\n",
              "        text-align: right;\n",
              "    }\n",
              "</style>\n",
              "<table border=\"1\" class=\"dataframe\">\n",
              "  <thead>\n",
              "    <tr style=\"text-align: right;\">\n",
              "      <th></th>\n",
              "      <th>Handphone</th>\n",
              "      <th>Baterai</th>\n",
              "      <th>Kamera</th>\n",
              "      <th>Harga</th>\n",
              "      <th>Layak DiRekomendasikan</th>\n",
              "    </tr>\n",
              "  </thead>\n",
              "  <tbody>\n",
              "    <tr>\n",
              "      <th>0</th>\n",
              "      <td>H1</td>\n",
              "      <td>Kuat</td>\n",
              "      <td>Tinggi</td>\n",
              "      <td>Sangat Murah</td>\n",
              "      <td>Ya</td>\n",
              "    </tr>\n",
              "    <tr>\n",
              "      <th>1</th>\n",
              "      <td>H2</td>\n",
              "      <td>Kuat</td>\n",
              "      <td>Tinggi</td>\n",
              "      <td>Sangat Mahal</td>\n",
              "      <td>Ya</td>\n",
              "    </tr>\n",
              "    <tr>\n",
              "      <th>2</th>\n",
              "      <td>H3</td>\n",
              "      <td>Kuat</td>\n",
              "      <td>Sedang</td>\n",
              "      <td>Mahal</td>\n",
              "      <td>Ya</td>\n",
              "    </tr>\n",
              "    <tr>\n",
              "      <th>3</th>\n",
              "      <td>H4</td>\n",
              "      <td>Kuat</td>\n",
              "      <td>Rendah</td>\n",
              "      <td>Mahal</td>\n",
              "      <td>Tidak</td>\n",
              "    </tr>\n",
              "    <tr>\n",
              "      <th>4</th>\n",
              "      <td>H5</td>\n",
              "      <td>Cukup</td>\n",
              "      <td>Tinggi</td>\n",
              "      <td>Sangat Murah</td>\n",
              "      <td>Ya</td>\n",
              "    </tr>\n",
              "    <tr>\n",
              "      <th>5</th>\n",
              "      <td>H6</td>\n",
              "      <td>Cukup</td>\n",
              "      <td>Sedang</td>\n",
              "      <td>Mahal</td>\n",
              "      <td>Ya</td>\n",
              "    </tr>\n",
              "    <tr>\n",
              "      <th>6</th>\n",
              "      <td>H7</td>\n",
              "      <td>Cukup</td>\n",
              "      <td>Sedang</td>\n",
              "      <td>Sangat Mahal</td>\n",
              "      <td>Ya</td>\n",
              "    </tr>\n",
              "    <tr>\n",
              "      <th>7</th>\n",
              "      <td>H8</td>\n",
              "      <td>Cukup</td>\n",
              "      <td>Tinggi</td>\n",
              "      <td>Murah</td>\n",
              "      <td>Ya</td>\n",
              "    </tr>\n",
              "    <tr>\n",
              "      <th>8</th>\n",
              "      <td>H9</td>\n",
              "      <td>Cukup</td>\n",
              "      <td>Rendah</td>\n",
              "      <td>Mahal</td>\n",
              "      <td>Tidak</td>\n",
              "    </tr>\n",
              "    <tr>\n",
              "      <th>9</th>\n",
              "      <td>H10</td>\n",
              "      <td>Lemah</td>\n",
              "      <td>Tinggi</td>\n",
              "      <td>Sangat Murah</td>\n",
              "      <td>Ya</td>\n",
              "    </tr>\n",
              "    <tr>\n",
              "      <th>10</th>\n",
              "      <td>H11</td>\n",
              "      <td>Lemah</td>\n",
              "      <td>Tinggi</td>\n",
              "      <td>Sangat Mahal</td>\n",
              "      <td>Tidak</td>\n",
              "    </tr>\n",
              "    <tr>\n",
              "      <th>11</th>\n",
              "      <td>H12</td>\n",
              "      <td>Lemah</td>\n",
              "      <td>Sedang</td>\n",
              "      <td>Murah</td>\n",
              "      <td>Tidak</td>\n",
              "    </tr>\n",
              "    <tr>\n",
              "      <th>12</th>\n",
              "      <td>H13</td>\n",
              "      <td>Lemah</td>\n",
              "      <td>Sedang</td>\n",
              "      <td>Mahal</td>\n",
              "      <td>Tidak</td>\n",
              "    </tr>\n",
              "    <tr>\n",
              "      <th>13</th>\n",
              "      <td>H14</td>\n",
              "      <td>Lemah</td>\n",
              "      <td>Rendah</td>\n",
              "      <td>Sangat Mahal</td>\n",
              "      <td>Tidak</td>\n",
              "    </tr>\n",
              "  </tbody>\n",
              "</table>\n",
              "</div>"
            ],
            "text/plain": [
              "   Handphone Baterai  Kamera         Harga Layak DiRekomendasikan\n",
              "0         H1    Kuat  Tinggi  Sangat Murah                     Ya\n",
              "1         H2    Kuat  Tinggi  Sangat Mahal                     Ya\n",
              "2         H3    Kuat  Sedang         Mahal                     Ya\n",
              "3         H4    Kuat  Rendah         Mahal                  Tidak\n",
              "4         H5   Cukup  Tinggi  Sangat Murah                     Ya\n",
              "5         H6   Cukup  Sedang         Mahal                     Ya\n",
              "6         H7   Cukup  Sedang  Sangat Mahal                     Ya\n",
              "7         H8   Cukup  Tinggi         Murah                     Ya\n",
              "8         H9   Cukup  Rendah         Mahal                  Tidak\n",
              "9        H10   Lemah  Tinggi  Sangat Murah                     Ya\n",
              "10       H11   Lemah  Tinggi  Sangat Mahal                  Tidak\n",
              "11       H12   Lemah  Sedang         Murah                  Tidak\n",
              "12       H13   Lemah  Sedang         Mahal                  Tidak\n",
              "13       H14   Lemah  Rendah  Sangat Mahal                  Tidak"
            ]
          },
          "metadata": {
            "tags": []
          },
          "execution_count": 11
        }
      ]
    },
    {
      "cell_type": "code",
      "metadata": {
        "colab": {
          "base_uri": "https://localhost:8080/",
          "height": 80
        },
        "id": "ddVcJEDJkyeb",
        "outputId": "ac64181b-4db9-44ed-bb71-a5f6d32d5b2e"
      },
      "source": [
        "#data frame yang akan di cari kelas data uji dari data testing di atas menggunakan Naive Bayes Classifier\n",
        "#Tahap 1\n",
        "df_uji = pd.read_excel('https://drive.google.com/uc?id=1Xv-ETgnYRARhV2icRMcMo6u5yaRfaDdl')\n",
        "df_uji"
      ],
      "execution_count": 12,
      "outputs": [
        {
          "output_type": "execute_result",
          "data": {
            "text/html": [
              "<div>\n",
              "<style scoped>\n",
              "    .dataframe tbody tr th:only-of-type {\n",
              "        vertical-align: middle;\n",
              "    }\n",
              "\n",
              "    .dataframe tbody tr th {\n",
              "        vertical-align: top;\n",
              "    }\n",
              "\n",
              "    .dataframe thead th {\n",
              "        text-align: right;\n",
              "    }\n",
              "</style>\n",
              "<table border=\"1\" class=\"dataframe\">\n",
              "  <thead>\n",
              "    <tr style=\"text-align: right;\">\n",
              "      <th></th>\n",
              "      <th>Handphone</th>\n",
              "      <th>Baterai</th>\n",
              "      <th>Kamera</th>\n",
              "      <th>Harga</th>\n",
              "    </tr>\n",
              "  </thead>\n",
              "  <tbody>\n",
              "    <tr>\n",
              "      <th>0</th>\n",
              "      <td>H15</td>\n",
              "      <td>Kuat</td>\n",
              "      <td>Sedang</td>\n",
              "      <td>Murah</td>\n",
              "    </tr>\n",
              "  </tbody>\n",
              "</table>\n",
              "</div>"
            ],
            "text/plain": [
              "  Handphone Baterai  Kamera  Harga\n",
              "0       H15    Kuat  Sedang  Murah"
            ]
          },
          "metadata": {
            "tags": []
          },
          "execution_count": 12
        }
      ]
    },
    {
      "cell_type": "code",
      "metadata": {
        "colab": {
          "base_uri": "https://localhost:8080/"
        },
        "id": "X1sq7pLelIhY",
        "outputId": "49377260-8789-406c-f0ad-d18dd4967512"
      },
      "source": [
        "#Program Utama\n",
        "\n",
        "#Tahap 2\n",
        "Total_ya ,Probabilitas_ya, Total_tidak, Probabilitas_tidak = HitungProbabilitasLayak(df_testing)\n",
        "print('Total Ya           :',Total_ya)\n",
        "print('Probabilitas Ya    :',Probabilitas_ya)\n",
        "print('Total Tidak        :',Total_tidak)\n",
        "print('Probabilitas Tidak :',Probabilitas_tidak)\n",
        "\n",
        "#Tahap 3\n",
        "print('############################################')\n",
        "ListData_Baterai = ProbabilitasRekomendasiNilaiKelas(df_testing,'Baterai',df_uji.iloc[0]['Baterai'],Total_ya,Total_tidak)\n",
        "ListData_Kamera  = ProbabilitasRekomendasiNilaiKelas(df_testing,'Kamera',df_uji.iloc[0]['Kamera'],Total_ya,Total_tidak)\n",
        "ListData_Harga   = ProbabilitasRekomendasiNilaiKelas(df_testing,'Harga' ,df_uji.iloc[0]['Harga'],Total_ya,Total_tidak)\n",
        "TampilkanTahap2(ListData_Baterai)\n",
        "TampilkanTahap2(ListData_Kamera)\n",
        "TampilkanTahap2(ListData_Harga)\n",
        "print('############################################')\n",
        "\n",
        "# Tahap 4\n",
        "Probabilitas_X_Ya, Probabilitas_X_Tidak = HitungProbabilitasRekomendasiKelas(ListData_Baterai,ListData_Kamera,ListData_Harga)\n",
        "print('P(X | Direkomendasikan Ya)   :',Probabilitas_X_Ya)\n",
        "print('P(X | Direkomendasikan Tidak):',Probabilitas_X_Tidak)\n",
        "print('############################################')\n",
        "\n",
        "#Tahap 5\n",
        "print('P(X | Direkomendasikan Ya) * P(Direkomendasikan Ya)       :',Probabilitas_X_Ya*Probabilitas_ya)\n",
        "print('P(X | Direkomendasikan Tidak) * P(Direkomendasikan Tidak) :',Probabilitas_X_Tidak*Probabilitas_tidak)\n",
        "print()\n",
        "print('Hasil kelas data uji dari data testing menggunakan Naive Bayes Classifier :')\n",
        "print()\n",
        "TampilkanDataUji(df_uji)\n",
        "if (Probabilitas_X_Ya*Probabilitas_ya) > (Probabilitas_X_Tidak*Probabilitas_tidak):\n",
        "  print('Layak DiRekomendasikan : Ya')\n",
        "else:\n",
        "  print('Layak DiRekomendasikan : Tidak')"
      ],
      "execution_count": 13,
      "outputs": [
        {
          "output_type": "stream",
          "text": [
            "Total Ya           : 8\n",
            "Probabilitas Ya    : 0.5714285714285714\n",
            "Total Tidak        : 6\n",
            "Probabilitas Tidak : 0.42857142857142855\n",
            "############################################\n",
            "Kelas              : Baterai\n",
            "Nilai Kelas        : Kuat\n",
            "Probabilitas Ya    : 0.375\n",
            "Probabilitas Tidak : 0.16666666666666666\n",
            "\n",
            "Kelas              : Kamera\n",
            "Nilai Kelas        : Sedang\n",
            "Probabilitas Ya    : 0.375\n",
            "Probabilitas Tidak : 0.3333333333333333\n",
            "\n",
            "Kelas              : Harga\n",
            "Nilai Kelas        : Murah\n",
            "Probabilitas Ya    : 0.125\n",
            "Probabilitas Tidak : 0.16666666666666666\n",
            "\n",
            "############################################\n",
            "P(X | Direkomendasikan Ya)   : 0.017578125\n",
            "P(X | Direkomendasikan Tidak): 0.009259259259259259\n",
            "############################################\n",
            "P(X | Direkomendasikan Ya) * P(Direkomendasikan Ya)       : 0.010044642857142856\n",
            "P(X | Direkomendasikan Tidak) * P(Direkomendasikan Tidak) : 0.003968253968253968\n",
            "\n",
            "Hasil kelas data uji dari data testing menggunakan Naive Bayes Classifier :\n",
            "\n",
            "Handphone              : H15\n",
            "Baterai                : Kuat\n",
            "Kamera                 : Sedang\n",
            "Harga                  : Murah\n",
            "Layak DiRekomendasikan : Ya\n"
          ],
          "name": "stdout"
        }
      ]
    }
  ]
}